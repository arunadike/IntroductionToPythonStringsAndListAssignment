{
  "nbformat": 4,
  "nbformat_minor": 0,
  "metadata": {
    "colab": {
      "provenance": []
    },
    "kernelspec": {
      "name": "python3",
      "display_name": "Python 3"
    },
    "language_info": {
      "name": "python"
    }
  },
  "cells": [
    {
      "cell_type": "markdown",
      "source": [
        "1.Are lists mutable or immutable, explain with an example"
      ],
      "metadata": {
        "id": "Mxypr15V3U7e"
      }
    },
    {
      "cell_type": "code",
      "source": [
        "Yes, Lists are mutable in nature. Lets consider an example where there is an list l1=[1,2,3,5]\n",
        "and you want to insert an item 4 at 3 index for you need to insert the item at 3rd index i.e, l1[3]=4"
      ],
      "metadata": {
        "id": "c_aTKXsT3p0P"
      },
      "execution_count": null,
      "outputs": []
    },
    {
      "cell_type": "markdown",
      "source": [],
      "metadata": {
        "id": "Jd2G4J_c3tm7"
      }
    },
    {
      "cell_type": "markdown",
      "source": [
        "2.Take any example of list on your own and perform atleast 5 list operations on that"
      ],
      "metadata": {
        "id": "uPYH4kpZ3U97"
      }
    },
    {
      "cell_type": "code",
      "source": [
        "#write your code here\n",
        "l1=list(map(int,input().split()))\n",
        "l2=list(map(int,input().split()))\n",
        "print(\"Appending of two lists :  \",l1+l2)\n",
        "print(\"Replication of list l1: \",l1*2)\n",
        "print(\"Length of list l1 : \",len(l1))\n",
        "l1[0]=5\n",
        "print(\"Inserting an element at 0th index of list l1: \",l1)\n",
        "print(\"Acessing an 2nd element from list l2 : \",l2[2])"
      ],
      "metadata": {
        "id": "vSxe0pwG36ME",
        "colab": {
          "base_uri": "https://localhost:8080/"
        },
        "outputId": "d8fc1e68-ffdf-4e9c-b99c-fe8a7bd0222a"
      },
      "execution_count": 6,
      "outputs": [
        {
          "output_type": "stream",
          "name": "stdout",
          "text": [
            "1 2 3 4\n",
            "5 6 7 8\n",
            "Appending of two lists :   [1, 2, 3, 4, 5, 6, 7, 8]\n",
            "Replication of list l1:  [1, 2, 3, 4, 1, 2, 3, 4]\n",
            "Length of list l1 :  4\n",
            "Inserting an element at 0th index of list l1:  [5, 2, 3, 4]\n",
            "Acessing an 2nd element from list l2 :  7\n"
          ]
        }
      ]
    },
    {
      "cell_type": "markdown",
      "source": [
        "3.Create a new list containing only the even numbers from the original list.\n",
        "\n",
        "original list ;[1,2,2,4,5,6,7,12,3,456,78,67,89,90]"
      ],
      "metadata": {
        "id": "1aSo9eEU3VAT"
      }
    },
    {
      "cell_type": "code",
      "source": [
        "#write your code here\n",
        "l1=list(map(int,input().split()))\n",
        "l2=[]\n",
        "for i in l1:\n",
        "  if i%2==0:\n",
        "    l2.append(i)\n",
        "print(\"Even number list: \",l2)"
      ],
      "metadata": {
        "id": "e-_3vMX54Upe",
        "colab": {
          "base_uri": "https://localhost:8080/"
        },
        "outputId": "90bb6c7e-8c90-437e-e5f4-bd8688ad2ee7"
      },
      "execution_count": 8,
      "outputs": [
        {
          "output_type": "stream",
          "name": "stdout",
          "text": [
            "1 2 2 4 5 6 7 12 3 456 78 67 89 90\n",
            "Even number list:  [2, 2, 4, 6, 12, 456, 78, 90]\n"
          ]
        }
      ]
    },
    {
      "cell_type": "markdown",
      "source": [
        "4.Create a new list with the squares of each element in the original list.\n",
        "\n",
        "original list : [3,5,6,8,2,45]"
      ],
      "metadata": {
        "id": "y1b95q7k3VCz"
      }
    },
    {
      "cell_type": "code",
      "source": [
        "#write your code here\n",
        "l1=list(map(int,input().split()))\n",
        "for i in range(0,len(l1)):\n",
        "  l1[i]=l1[i]**2\n",
        "print(\"Square of each element in the list l1 : \",l1)"
      ],
      "metadata": {
        "id": "97M5xax24jM4",
        "colab": {
          "base_uri": "https://localhost:8080/"
        },
        "outputId": "456b7a43-d5e2-4227-951d-988a63f9ee41"
      },
      "execution_count": 10,
      "outputs": [
        {
          "output_type": "stream",
          "name": "stdout",
          "text": [
            "3 5 6 8 2 45\n",
            "Square of each element in the list l1 :  [9, 25, 36, 64, 4, 2025]\n"
          ]
        }
      ]
    },
    {
      "cell_type": "markdown",
      "source": [
        "5.Check if all elements in the list are positive and return all the positive elements in a new list.\n",
        "\n",
        "input ; [12,23,4,56,77,-89,7,90,90,-87,-99]"
      ],
      "metadata": {
        "id": "pzrQ5WBZ3VFQ"
      }
    },
    {
      "cell_type": "code",
      "source": [
        "# write your code here\n",
        "l1=list(map(int,input().split()))\n",
        "l2=[]\n",
        "for i in l1:\n",
        "  if i>0:\n",
        "    l2.append(i)\n",
        "print(\"Positive element list : \",l2)"
      ],
      "metadata": {
        "id": "8x0148io5FcT",
        "colab": {
          "base_uri": "https://localhost:8080/"
        },
        "outputId": "3d7ff98a-ea89-492d-fd3d-3c0e971475f0"
      },
      "execution_count": 11,
      "outputs": [
        {
          "output_type": "stream",
          "name": "stdout",
          "text": [
            "12 23 4 56 77 -89 7 90 90 -87 -99\n",
            "Positive element list :  [12, 23, 4, 56, 77, 7, 90, 90]\n"
          ]
        }
      ]
    },
    {
      "cell_type": "code",
      "source": [],
      "metadata": {
        "id": "7X8DtcXHX660"
      },
      "execution_count": null,
      "outputs": []
    }
  ]
}