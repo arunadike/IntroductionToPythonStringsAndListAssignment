{
  "nbformat": 4,
  "nbformat_minor": 0,
  "metadata": {
    "colab": {
      "provenance": []
    },
    "kernelspec": {
      "name": "python3",
      "display_name": "Python 3"
    },
    "language_info": {
      "name": "python"
    }
  },
  "cells": [
    {
      "cell_type": "markdown",
      "source": [
        "1.Write a Python program to count the number of vowels in a string.\n",
        "\n",
        "input : hasdfgeuionhjl"
      ],
      "metadata": {
        "id": "q8RkYTES1QUW"
      }
    },
    {
      "cell_type": "code",
      "source": [
        "# write your code here\n",
        "s=input()\n",
        "c=0\n",
        "for i in s:\n",
        "  if i in \"aeiou\":\n",
        "    c+=1\n",
        "print(\"Vowel count : \",c)"
      ],
      "metadata": {
        "id": "UHi6ezjV1X0s",
        "colab": {
          "base_uri": "https://localhost:8080/"
        },
        "outputId": "01db0677-3134-4814-bec5-08e71132b233"
      },
      "execution_count": 1,
      "outputs": [
        {
          "output_type": "stream",
          "name": "stdout",
          "text": [
            "hasdfgeuionhjl\n",
            "Vowel count :  5\n"
          ]
        }
      ]
    },
    {
      "cell_type": "markdown",
      "source": [
        "2.Write a Python program to count the occurrences of each word in a sentence.\n",
        "\n",
        "input : hi hello hi and and hi more and more programming"
      ],
      "metadata": {
        "id": "v7GBEK161QWy"
      }
    },
    {
      "cell_type": "code",
      "source": [
        "# write your code here\n",
        "set1=set()\n",
        "s=input().split(\" \")\n",
        "for i in s:\n",
        "  if(i in set1):\n",
        "    continue\n",
        "  c=0\n",
        "  for j in s:\n",
        "    if i==j:\n",
        "      c+=1\n",
        "  set1.add(i)\n",
        "  print(i,'= ',c)"
      ],
      "metadata": {
        "id": "R-UzDybK1uZo",
        "colab": {
          "base_uri": "https://localhost:8080/"
        },
        "outputId": "5f8b8589-861f-4adc-9297-681b921b9b11"
      },
      "execution_count": 7,
      "outputs": [
        {
          "output_type": "stream",
          "name": "stdout",
          "text": [
            "hi hello hi and and hi more and more programming   [2]\n",
            "hi =  3\n",
            "hello =  1\n",
            "and =  3\n",
            "more =  2\n",
            "programming =  1\n",
            " =  2\n",
            "[2] =  1\n"
          ]
        }
      ]
    },
    {
      "cell_type": "markdown",
      "source": [
        "3.In python how can you differentiate strings and lists. Give atleast 5 different comparisons between them."
      ],
      "metadata": {
        "id": "evCcw-0H1QY9"
      }
    },
    {
      "cell_type": "markdown",
      "source": [
        "Answer:"
      ],
      "metadata": {
        "id": "OfiTI0pv1QbU"
      }
    },
    {
      "cell_type": "markdown",
      "source": [
        "4.Write a string for your own of approximately 40 in length and perform any 5 different string operations on that."
      ],
      "metadata": {
        "id": "riR1PWxG1Qdq"
      }
    },
    {
      "cell_type": "code",
      "source": [
        "#Write your code here\n",
        "s=input()\n",
        "s1=input()\n",
        "print(\"Concatenation of two strings : \",s+s1)\n",
        "print(\"Replication  of string s: \", s*2)\n",
        "print(\"Comparing two strings : \", s==s1)\n",
        "print(\"Accessing a character in string s1 : \", s1[0])\n",
        "print(\"Length of the String s1: \",len(s1))"
      ],
      "metadata": {
        "id": "3bHyrDS12e8i",
        "colab": {
          "base_uri": "https://localhost:8080/"
        },
        "outputId": "0e2e6427-c123-413f-cc68-5479d9878a9b"
      },
      "execution_count": 9,
      "outputs": [
        {
          "output_type": "stream",
          "name": "stdout",
          "text": [
            "hi hello hi and and hi more and more programming   [2]\n",
            "hi hello hi and and hi more and more programming   [2]\n",
            "Concatenation of two strings :  hi hello hi and and hi more and more programming   [2]hi hello hi and and hi more and more programming   [2]\n",
            "Replication  of string :  hi hello hi and and hi more and more programming   [2]hi hello hi and and hi more and more programming   [2]\n",
            "Comparing two strings :  True\n"
          ]
        }
      ]
    },
    {
      "cell_type": "markdown",
      "source": [
        "5.Explain the concatination in strings with a neat example."
      ],
      "metadata": {
        "id": "bbUm7VVN1Qfu"
      }
    },
    {
      "cell_type": "code",
      "source": [
        "#write your code and explanation here"
      ],
      "metadata": {
        "id": "y9292Q452tF0"
      },
      "execution_count": null,
      "outputs": []
    },
    {
      "cell_type": "code",
      "source": [],
      "metadata": {
        "id": "vnMNtJgq2xuG"
      },
      "execution_count": null,
      "outputs": []
    }
  ]
}